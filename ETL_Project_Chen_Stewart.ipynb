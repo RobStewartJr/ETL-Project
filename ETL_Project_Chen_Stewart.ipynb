{
 "cells": [
  {
   "cell_type": "code",
   "execution_count": null,
   "metadata": {},
   "outputs": [],
   "source": [
    "import pandas as pd\n",
    "from sqlalchemy import create_engine"
   ]
  },
  {
   "cell_type": "markdown",
   "metadata": {},
   "source": [
    "# Extract CSVs Into DataFrame"
   ]
  },
  {
   "cell_type": "code",
   "execution_count": null,
   "metadata": {},
   "outputs": [],
   "source": [
    "sector_file = \"Support_Data/constituents.csv\"\n",
    "sector_df = pd.read_csv(sector_file)\n",
    "sector_df.columns = ['symbol','name','sector']\n",
    "sector_df.head()"
   ]
  },
  {
   "cell_type": "code",
   "execution_count": null,
   "metadata": {},
   "outputs": [],
   "source": [
    "SP500Landing_file = \"Support_Data/SP_500_Sectors.csv\"\n",
    "SP500_df = pd.read_csv(SP500Landing_file)\n",
    "SP500_df.head()"
   ]
  },
  {
   "cell_type": "markdown",
   "metadata": {},
   "source": [
    "# Transform SP500 DataFrame"
   ]
  },
  {
   "cell_type": "code",
   "execution_count": null,
   "metadata": {},
   "outputs": [],
   "source": [
    "# Creating a filtered dataframe from specific columns\n",
    "SP500_cols = [\"Ticker\", \"Price\", \"P/E Ratio\", \"Beta\"]\n",
    "SP500_transformed = SP500_df[SP500_cols].copy()\n",
    "\n",
    "# Renaming columns to improve syntax\n",
    "SP500_transformed = SP500_transformed.rename(columns={\"Ticker\": \"Symbol\", \"P/E Ratio\": \"PE_Ratio\"})\n",
    "SP500_transformed.head()"
   ]
  },
  {
   "cell_type": "code",
   "execution_count": null,
   "metadata": {},
   "outputs": [],
   "source": [
    "# Changing column titles to be lowercase\n",
    "SP500_transformed.columns = ['symbol','price','pe_ratio','beta']\n",
    "sp500_transformed = SP500_transformed\n",
    "sp500_transformed.head()"
   ]
  },
  {
   "cell_type": "code",
   "execution_count": null,
   "metadata": {},
   "outputs": [],
   "source": [
    "# Replacing all instances of commas to improve syntax\n",
    "sp500_transformed['price'] = sp500_transformed['price'].str.replace(',','')\n",
    "sp500_transformed['pe_ratio'] = sp500_transformed['pe_ratio'].str.replace(',','')"
   ]
  },
  {
   "cell_type": "code",
   "execution_count": null,
   "metadata": {},
   "outputs": [],
   "source": [
    "# Assigning datatypes\n",
    "my_dict = {'symbol':'str'\n",
    "          ,'price':'float64'\n",
    "          ,'pe_ratio':'float64'\n",
    "          ,'beta':'float64'}\n",
    "sp500_transformed = sp500_transformed.astype(my_dict)\n",
    "sp500_transformed.dtypes"
   ]
  },
  {
   "cell_type": "markdown",
   "metadata": {},
   "source": [
    "# Create Database Connection"
   ]
  },
  {
   "cell_type": "code",
   "execution_count": null,
   "metadata": {},
   "outputs": [],
   "source": [
    "# Establishing connection to SQL database\n",
    "connection_string = \"postgres:postgres@localhost:5432/ETL_Project_Chen_Stewart\"\n",
    "engine2 = create_engine(f'postgresql://{connection_string}')"
   ]
  },
  {
   "cell_type": "code",
   "execution_count": null,
   "metadata": {},
   "outputs": [],
   "source": [
    "# Confirming successful connection by checking table names\n",
    "engine2.table_names()"
   ]
  },
  {
   "cell_type": "markdown",
   "metadata": {},
   "source": [
    "# Load DataFrames Into Database"
   ]
  },
  {
   "cell_type": "code",
   "execution_count": null,
   "metadata": {},
   "outputs": [],
   "source": [
    "# Append dataframe to SQL table_one\n",
    "sector_df.to_sql(name=\"table_one\", con=engine2, if_exists='append', index=False)"
   ]
  },
  {
   "cell_type": "code",
   "execution_count": null,
   "metadata": {},
   "outputs": [],
   "source": [
    "# Append dataframe to SQL table_two\n",
    "sp500_transformed.to_sql(name=\"table_two\", con=engine2, if_exists='append', index=False)"
   ]
  }
 ],
 "metadata": {
  "kernelspec": {
   "display_name": "Python 3",
   "language": "python",
   "name": "python3"
  },
  "language_info": {
   "codemirror_mode": {
    "name": "ipython",
    "version": 3
   },
   "file_extension": ".py",
   "mimetype": "text/x-python",
   "name": "python",
   "nbconvert_exporter": "python",
   "pygments_lexer": "ipython3",
   "version": "3.7.3"
  }
 },
 "nbformat": 4,
 "nbformat_minor": 2
}
